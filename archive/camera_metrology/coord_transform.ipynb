{
 "cells": [
  {
   "cell_type": "code",
   "execution_count": 1,
   "metadata": {},
   "outputs": [],
   "source": [
    "import transforms3d as tranf\n",
    "import numpy as np\n",
    "import astropy.units as u\n",
    "from astropy.time import Time\n",
    "from astropy.coordinates import SkyCoord, EarthLocation, AltAz\n",
    "import math\n",
    "rng = np.random.default_rng(1337)\n",
    "\n",
    "t = Time('2020-01-01T20:00:00')\n",
    "\n",
    "location = EarthLocation(\n",
    "    lon=-17.89 * u.deg, lat=28.76 * u.deg, height=2200 * u.m\n",
    ")\n",
    "\n",
    "# target horizontal coordinate frame\n",
    "altazfunc = AltAz(obstime=t, location=location)\n",
    "star = SkyCoord(alt=0 * u.deg, az=90 * u.deg, frame='altaz')"
   ]
  },
  {
   "cell_type": "code",
   "execution_count": 2,
   "metadata": {},
   "outputs": [],
   "source": [
    "def altazunpack(altaz):\n",
    "    return (altaz.az.rad, altaz.alt.rad)\n",
    "\n",
    "def altaz2euler(altaz, roll=0):\n",
    "    return (-altaz[0], altaz[1], roll)\n",
    "\n",
    "def altaz2vec(altaz):\n",
    "    return math.sin(altaz[0]) * math.cos(altaz[1]), math.cos(altaz[0]) * math.cos(altaz[1]), math.sin(altaz[1])\n"
   ]
  },
  {
   "cell_type": "code",
   "execution_count": 5,
   "metadata": {},
   "outputs": [],
   "source": [
    "north = np.array((0, 1, 0))\n",
    "east = np.array((1, 0, 0))\n",
    "norm_ground = np.array((1, 0, 1))\n",
    "norm_ground = norm_ground / np.linalg.norm(norm_ground)\n",
    "new_north = np.cross(norm_ground, east)\n",
    "new_north = new_north / np.linalg.norm(new_north)\n",
    "new_east = np.cross(new_north, norm_ground)\n",
    "transform = np.vstack((new_east, new_north, norm_ground))\n",
    "transform_inv = np.linalg.inv(transform)\n",
    "transform_q = tranf.quaternions.mat2quat(transform.T)\n",
    "transform_q_inv = tranf.quaternions.qinverse(transform_q)\n",
    "\n",
    "altaz = altazunpack(star)\n",
    "star_vec = altaz2vec(altaz)\n",
    "new_star_vec1 = star_vec@transform_inv\n",
    "new_star_vec = tranf.quaternions.rotate_vector(star_vec, transform_q_inv)\n",
    "\n",
    "new_baseline = np.dot(new_star_vec, [0,0,1])\n",
    "baseline_azimuth = np.rad2deg(np.arctan2(new_star_vec[0], new_star_vec[1]))"
   ]
  },
  {
   "cell_type": "code",
   "execution_count": 6,
   "metadata": {},
   "outputs": [
    {
     "name": "stdout",
     "output_type": "stream",
     "text": [
      "Baseline azimuth: 90.0000000000 deg\n"
     ]
    }
   ],
   "source": [
    "print(f\"Baseline azimuth: {baseline_azimuth:.10f} deg\")"
   ]
  }
 ],
 "metadata": {
  "kernelspec": {
   "display_name": "venv",
   "language": "python",
   "name": "python3"
  },
  "language_info": {
   "codemirror_mode": {
    "name": "ipython",
    "version": 3
   },
   "file_extension": ".py",
   "mimetype": "text/x-python",
   "name": "python",
   "nbconvert_exporter": "python",
   "pygments_lexer": "ipython3",
   "version": "3.10.6 (main, Nov 14 2022, 16:10:14) [GCC 11.3.0]"
  },
  "orig_nbformat": 4,
  "vscode": {
   "interpreter": {
    "hash": "7fcc7ce1790776b32e77a9cd56e4d146aab723eb6783ad16d2feb7539448f497"
   }
  }
 },
 "nbformat": 4,
 "nbformat_minor": 2
}
