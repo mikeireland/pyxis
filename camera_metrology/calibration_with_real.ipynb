{
 "cells": [
  {
   "cell_type": "code",
   "execution_count": 38,
   "metadata": {},
   "outputs": [],
   "source": [
    "import numpy as np\n",
    "import cv2\n",
    "import matplotlib.pyplot as plt\n",
    "import os\n",
    "from tqdm import tqdm\n",
    "import itertools\n",
    "import toml\n",
    "\n",
    "\n",
    "def wait_for_key(key=32):\n",
    "    # while key != cv2.waitKey(30):\n",
    "    #     pass\n",
    "    cv2.waitKey(0)\n",
    "\n",
    "# unpack the image under this path\n",
    "# camera config will be stored in toml file under this path as well\n",
    "path = 'chief/data'"
   ]
  },
  {
   "cell_type": "code",
   "execution_count": 33,
   "metadata": {},
   "outputs": [],
   "source": [
    "def read_raw(path, size=(1080, 1440)):\n",
    "    with open(path, 'r') as f:\n",
    "        img = np.fromfile(f, dtype=np.uint8)\n",
    "        img = img.reshape(size)\n",
    "        return img\n",
    "\n",
    "def read_images(paths):\n",
    "    images = []\n",
    "    for i, path in enumerate(paths):\n",
    "        images.append(read_raw(path))\n",
    "    return images\n",
    "\n",
    "def generate_obj_points(grid):\n",
    "    objp = np.zeros((grid[0] * grid[1], 3), np.float32)\n",
    "    objp[:, :2] = np.mgrid[0:grid[0], 0:grid[1]].T.reshape(-1, 2)*20\n",
    "    return objp\n",
    "\n",
    "# can be useful for debugging\n",
    "def show_img_3d(img):\n",
    "    XX, YY = np.meshgrid(np.arange(img.shape[1]), np.arange(img.shape[0]))\n",
    "    fig, ax = plt.subplots(subplot_kw={\"projection\": \"3d\"})\n",
    "    ax.plot_surface(YY, XX, img, cmap='jet')\n",
    "\n",
    "def detect_corners(img, grid):\n",
    "    \"\"\"\n",
    "    grid must match the number of the inner corners along width, height in img.\n",
    "    It doesn't include corner on the bounardy of grid and is not the number of blocks, either. \n",
    "    \"\"\"\n",
    "    clahe = cv2.createCLAHE(clipLimit=2.0, tileGridSize=(8, 8))\n",
    "    img = clahe.apply(img)\n",
    "    mean, std = np.mean(img), np.std(img)\n",
    "    img[img > mean + std] = mean + std\n",
    "    ret, corners = cv2.findChessboardCorners(img, grid, None)\n",
    "    if ret:\n",
    "        term = (cv2.TERM_CRITERIA_EPS + cv2.TERM_CRITERIA_COUNT, 30, 0.1)\n",
    "        cv2.cornerSubPix(img, corners, (5, 5), (-1, -1), term)\n",
    "    return ret, corners\n",
    "\n",
    "def process_image(folder, grid=(16, 10), debug=False):\n",
    "    objp = generate_obj_points(grid)\n",
    "    objpoints = []\n",
    "    imgpoints = []\n",
    "    total, success = 0, 0\n",
    "    if debug:\n",
    "        debug_folder = os.path.join(folder, '.debug')\n",
    "        os.makedirs(debug_folder, exist_ok=True)\n",
    "    \n",
    "    files = [file for file in os.listdir(folder) if not file.startswith('.')]\n",
    "    if debug:\n",
    "        files = files[:20]\n",
    "\n",
    "    for img_file in tqdm(files):\n",
    "        img_path = os.path.join(folder, img_file)\n",
    "        img = read_raw(img_path)\n",
    "        total += 1\n",
    "        ret, corners = detect_corners(img, grid)\n",
    "        if ret:\n",
    "            success += 1\n",
    "            objpoints.append(objp)\n",
    "            imgpoints.append(corners)\n",
    "            if debug:\n",
    "                img_debug = img.copy()\n",
    "                cv2.drawChessboardCorners(img_debug, grid, corners, ret)\n",
    "                cv2.imwrite(os.path.join(debug_folder, img_file.rsplit(\".\", 1)[0]+'.png'), img_debug)\n",
    "\n",
    "    print('Total: {}, Success: {}'.format(total, success))    \n",
    "    return objpoints, imgpoints"
   ]
  },
  {
   "cell_type": "code",
   "execution_count": 39,
   "metadata": {},
   "outputs": [
    {
     "name": "stderr",
     "output_type": "stream",
     "text": [
      "100%|██████████| 20/20 [00:25<00:00,  1.27s/it]\n"
     ]
    },
    {
     "name": "stdout",
     "output_type": "stream",
     "text": [
      "Total: 20, Success: 8\n",
      "[[2.51078918e+03 0.00000000e+00 2.71873280e+02]\n",
      " [0.00000000e+00 2.60398957e+03 4.91179390e+02]\n",
      " [0.00000000e+00 0.00000000e+00 1.00000000e+00]] [[-6.86290758e-01  1.69838913e-01 -6.97877543e-04  7.54176883e-02\n",
      "   8.84974919e-01]]\n"
     ]
    }
   ],
   "source": [
    "grid = (16, 10)\n",
    "objpoints, imgpoints = process_image(path + '/calibration_images', grid, debug=True)\n",
    "rms, camera_matrix, dist_coefs, rvecs, tvecs = cv2.calibrateCamera(\n",
    "    objpoints, imgpoints, grid, None, None)\n",
    "# save camera_matrix and dist_coefs with toml\n",
    "with open(path + '/camera.toml', 'w') as f:\n",
    "    toml.dump({'camera_matrix': camera_matrix.tolist(), 'dist_coefs': dist_coefs.tolist()}, f)\n",
    "print(camera_matrix, dist_coefs)"
   ]
  },
  {
   "cell_type": "code",
   "execution_count": 42,
   "metadata": {},
   "outputs": [
    {
     "name": "stdout",
     "output_type": "stream",
     "text": [
      "[[2.51078918e+03 0.00000000e+00 2.71873280e+02]\n",
      " [0.00000000e+00 2.60398957e+03 4.91179390e+02]\n",
      " [0.00000000e+00 0.00000000e+00 1.00000000e+00]] [[-6.86290758e-01  1.69838913e-01 -6.97877543e-04  7.54176883e-02\n",
      "   8.84974919e-01]]\n"
     ]
    }
   ],
   "source": [
    "\n",
    "test_img = read_raw(path + '/calibration_images/13_29_28_524.raw')\n",
    "# load camera_matrix and dist_coefs with toml\n",
    "with open(path + '/camera.toml', 'r') as f:\n",
    "    data = toml.load(f)\n",
    "camera_matrix = np.array(data['camera_matrix'])\n",
    "dist_coefs = np.array(data['dist_coefs'])\n",
    "print(camera_matrix, dist_coefs)\n"
   ]
  },
  {
   "cell_type": "code",
   "execution_count": null,
   "metadata": {},
   "outputs": [],
   "source": [
    "mapx, mapy = cv2.initUndistortRectifyMap(camera_matrix, dist_coefs, None, cv2.getOptimalNewCameraMatrix(\n",
    "    camera_matrix, dist_coefs, test_img.shape[::-1], 0)[0], test_img.shape[::-1], cv2.CV_32FC1)\n",
    "img_undistorted = cv2.remap(\n",
    "    test_img, mapx, mapy, cv2.INTER_LINEAR)\n",
    "plt.figure()\n",
    "plt.imshow(test_img, cmap='gray')\n",
    "plt.figure()\n",
    "plt.imshow(img_undistorted, cmap='gray')\n"
   ]
  },
  {
   "cell_type": "code",
   "execution_count": 27,
   "metadata": {},
   "outputs": [
    {
     "name": "stdout",
     "output_type": "stream",
     "text": [
      "['13_29_32_009.raw', '13_29_27_016.raw', '13_29_37_025.raw', '13_29_28_013.raw', '13_29_28_524.raw', '13_29_43_017.raw', '13_29_36_514.raw', '13_29_40_510.raw', '.debug', '13_29_29_012.raw', '13_29_48_012.raw', '13_29_35_516.raw', '13_29_33_008.raw', '13_29_44_525.raw', '13_29_37_513.raw', '13_29_51_518.raw', '13_29_42_019.raw', '13_29_24_020.raw', '13_29_34_516.raw', '13_29_45_525.raw', '13_29_39_510.raw', '13_29_26_526.raw', '13_29_24_508.raw', '13_29_41_508.raw', '13_29_36_025.raw', '13_29_52_007.raw', '13_29_29_523.raw', '13_29_26_015.raw', '13_29_53_516.raw', '13_29_48_520.raw', '13_29_40_022.raw', '13_29_32_518.raw', '13_29_47_522.raw', '13_29_25_019.raw', '13_29_46_013.raw', '13_29_46_524.raw', '13_29_33_519.raw', '13_29_45_016.raw', '13_29_38_022.raw', '13_29_47_013.raw', '13_29_34_007.raw', '13_29_31_010.raw', '13_29_25_528.raw', '13_29_31_520.raw', '13_29_53_027.raw', '13_29_50_520.raw', '13_29_44_016.raw', '13_29_51_009.raw', '13_29_50_010.raw', '13_29_39_022.raw', '13_29_42_508.raw', '13_29_52_516.raw', '13_29_49_520.raw', '13_29_41_019.raw', '13_29_49_010.raw', '13_29_38_513.raw', '13_29_43_507.raw', '13_29_27_525.raw', '13_29_30_521.raw', '13_29_35_006.raw', '13_29_30_011.raw']\n"
     ]
    }
   ],
   "source": [
    "a = os.listdir(path + '/calibration_images')\n",
    "print(a)"
   ]
  },
  {
   "cell_type": "code",
   "execution_count": null,
   "metadata": {},
   "outputs": [],
   "source": []
  }
 ],
 "metadata": {
  "kernelspec": {
   "display_name": "Pyxis (myenv)",
   "language": "python",
   "name": "venv"
  },
  "language_info": {
   "codemirror_mode": {
    "name": "ipython",
    "version": 3
   },
   "file_extension": ".py",
   "mimetype": "text/x-python",
   "name": "python",
   "nbconvert_exporter": "python",
   "pygments_lexer": "ipython3",
   "version": "3.10.6"
  },
  "orig_nbformat": 4,
  "vscode": {
   "interpreter": {
    "hash": "31f2aee4e71d21fbe5cf8b01ff0e069b9275f58929596ceb00d14d90e3e16cd6"
   }
  }
 },
 "nbformat": 4,
 "nbformat_minor": 2
}
