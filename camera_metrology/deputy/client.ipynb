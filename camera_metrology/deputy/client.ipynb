{
 "cells": [
  {
   "cell_type": "code",
   "execution_count": 10,
   "metadata": {},
   "outputs": [
    {
     "data": {
      "text/plain": [
       "<SocketContext(connect='tcp://localhost:3001')>"
      ]
     },
     "execution_count": 10,
     "metadata": {},
     "output_type": "execute_result"
    }
   ],
   "source": [
    "import zmq\n",
    "import json\n",
    "import math\n",
    "import numpy as np\n",
    "import transforms3d as tranf\n",
    "\n",
    "context = zmq.Context()\n",
    "socket = context.socket(zmq.REQ)\n",
    "socket.connect(\"tcp://localhost:3001\")"
   ]
  },
  {
   "cell_type": "code",
   "execution_count": 12,
   "metadata": {},
   "outputs": [],
   "source": [
    "LED_REAL_DISTANCE=0.5\n",
    "BASELINE=2.3\n",
    "\n",
    "def is_unknown_cmd(m):\n",
    "    return b'Unknown command' in m\n",
    "\n",
    "def get_led(socket):\n",
    "    socket.send_string('get_led')\n",
    "    message = socket.recv_json()\n",
    "    return np.array(message['led'])\n"
   ]
  },
  {
   "cell_type": "code",
   "execution_count": 44,
   "metadata": {},
   "outputs": [
    {
     "name": "stdout",
     "output_type": "stream",
     "text": [
      "{'camera': {'base_folder': '../../data', 'file': {'off': 'mid_off.tiff', 'on': 'mid_on.tiff'}, 'fov': 30, 'size_pixel': [400, 300]}}\n",
      "[[142.51869159 341.97368421]\n",
      " [136.07386364 462.82054795]]\n"
     ]
    }
   ],
   "source": [
    "socket.send_string(\"get_config\")\n",
    "config = socket.recv_json()\n",
    "print(config)\n",
    "fov_angle = config['camera']['fov']*math.pi/180\n",
    "size_pixel = config['camera']['size_pixel']\n",
    "leds = get_led(socket)\n",
    "print(leds)"
   ]
  },
  {
   "cell_type": "code",
   "execution_count": 45,
   "metadata": {},
   "outputs": [],
   "source": [
    "from transforms3d.quaternions import quat2mat, qinverse, qmult\n",
    "def qdiff(src, dst):\n",
    "    return qmult(src, qinverse(dst))\n",
    "\n",
    "quat_deputy = np.array([0.0, 0.0, 0.0, 1.0])"
   ]
  },
  {
   "cell_type": "code",
   "execution_count": 48,
   "metadata": {},
   "outputs": [
    {
     "name": "stdout",
     "output_type": "stream",
     "text": [
      "[[-0.33598463 -0.06440869]\n",
      " [ 0.26427758 -0.3001311 ]]\n"
     ]
    }
   ],
   "source": [
    "\n",
    "# get relative orientation difference of deputy w.t.t chief\n",
    "leds = np.array([[1, 0],[1,1]])\n",
    "socket.send_string(\"get_orientation\")\n",
    "quat_chief = np.array(socket.recv_json())\n",
    "quat_diff = qdiff(quat_chief, quat_deputy)\n",
    "midpoint = np.sum(leds, axis=1)/2\n",
    "# projective transform\n",
    "A1 = np.array([[1, 0, 0], [0, 1, 0], [0, 0, 0], [0, 0, 1]], np.float32)\n",
    "R = np.block([[quat2mat(quat_diff), np.zeros((3, 1))], [np.zeros((1, 3)), 1]])\n",
    "T = np.block([[np.eye(3), np.r_[-midpoint, 0][:, None]], [np.zeros((1,3)), 1]])\n",
    "A2 = np.array([[1, 0, 0, 0], [0, 1, 0, 0], [0, 0, 0, 1]], np.float32)\n",
    "transform = A2 @ (R @ (T @ A1))\n",
    "leds_corrected = (transform@np.hstack((leds, np.ones((2, 1)))).T).T[:, :2]\n",
    "print(leds_corrected)\n"
   ]
  },
  {
   "cell_type": "code",
   "execution_count": 9,
   "metadata": {},
   "outputs": [
    {
     "name": "stdout",
     "output_type": "stream",
     "text": [
      "2.3364634905908743 1.6199370612109167 [0.57307786 1.64555213]\n"
     ]
    }
   ],
   "source": [
    "led_sep_pixel = np.linalg.norm(leds[1] - leds[0])\n",
    "ratio = led_sep_pixel/LED_REAL_DISTANCE\n",
    "distance = LED_REAL_DISTANCE/2/np.tan(led_sep_pixel/size_pixel[1]*fov_angle/2)\n",
    "angle = np.arctan2(*(leds[1]-leds[0])[::-1])\n",
    "offset = (leds[1]+leds[0])/2/ratio\n",
    "print(distance, angle, offset)\n"
   ]
  },
  {
   "cell_type": "code",
   "execution_count": 10,
   "metadata": {},
   "outputs": [
    {
     "name": "stdout",
     "output_type": "stream",
     "text": [
      "[[ 1.          0.          0.        ]\n",
      " [ 0.         -0.04912096 -0.99879284]\n",
      " [ 0.          0.99879284 -0.04912096]] [-0.03646349 -0.57307786 -1.64555213]\n"
     ]
    }
   ],
   "source": [
    "R = tranf.axangles.axangle2mat([1,0,0], angle)\n",
    "T = np.array([BASELINE-distance, *(-offset)])\n",
    "print(R, T)"
   ]
  }
 ],
 "metadata": {
  "kernelspec": {
   "display_name": "venv",
   "language": "python",
   "name": "python3"
  },
  "language_info": {
   "codemirror_mode": {
    "name": "ipython",
    "version": 3
   },
   "file_extension": ".py",
   "mimetype": "text/x-python",
   "name": "python",
   "nbconvert_exporter": "python",
   "pygments_lexer": "ipython3",
   "version": "3.10.6 (main, Nov 14 2022, 16:10:14) [GCC 11.3.0]"
  },
  "orig_nbformat": 4,
  "vscode": {
   "interpreter": {
    "hash": "7fcc7ce1790776b32e77a9cd56e4d146aab723eb6783ad16d2feb7539448f497"
   }
  }
 },
 "nbformat": 4,
 "nbformat_minor": 2
}
