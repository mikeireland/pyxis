{
 "cells": [
  {
   "cell_type": "code",
   "execution_count": 23,
   "id": "a5ecc285",
   "metadata": {},
   "outputs": [],
   "source": [
    "from astropy.coordinates import SkyCoord, EarthLocation, AltAz\n",
    "from astropy.time import Time\n",
    "import astropy.units as u\n",
    "import numpy as np\n",
    "import Quaternion\n",
    "from Quaternion import Quat\n",
    "rng = np.random.default_rng(1337)\n",
    "\n",
    "# 100_000 times randomly distributed over 12 hours\n",
    "t = Time('2020-01-01T20:00:00') + rng.uniform(0, 1, 10_000) * u.hour\n",
    "\n",
    "location = location = EarthLocation(\n",
    "    lon=-17.89 * u.deg, lat=28.76 * u.deg, height=2200 * u.m\n",
    ")\n",
    "\n",
    "quat = Quat(q=Quaternion.normalize((1,20,30,0)))\n",
    "coord = SkyCoord(*quat.equatorial[:2], frame=\"icrs\", unit=\"degree\")\n",
    "\n",
    "# target horizontal coordinate frame\n",
    "altaz = AltAz(obstime=t, location=location)"
   ]
  },
  {
   "cell_type": "code",
   "execution_count": 25,
   "id": "5106d46d",
   "metadata": {},
   "outputs": [
    {
     "data": {
      "text/plain": [
       "<AltAz Frame (obstime=['2020-01-01T20:52:41.167' '2020-01-01T20:11:07.901'\n",
       " '2020-01-01T20:55:15.242' ... '2020-01-01T20:23:24.606'\n",
       " '2020-01-01T20:35:26.593' '2020-01-01T20:30:37.996'], location=(5326958.3926938, -1719534.01587917, 3051667.79174796) m, pressure=0.0 hPa, temperature=0.0 deg_C, relative_humidity=0.0, obswl=1.0 micron)>"
      ]
     },
     "execution_count": 25,
     "metadata": {},
     "output_type": "execute_result"
    }
   ],
   "source": [
    "altaz"
   ]
  },
  {
   "cell_type": "code",
   "execution_count": 53,
   "id": "6d265ebe",
   "metadata": {},
   "outputs": [
    {
     "data": {
      "text/plain": [
       "array([[ 53.,  -0.],\n",
       "       [-53.,  -0.]])"
      ]
     },
     "execution_count": 53,
     "metadata": {},
     "output_type": "execute_result"
    }
   ],
   "source": [
    "# real to pixel\n",
    "def baseline_sep_to_fov(d_baseline, sensor_size=(30*10**-3, 20*10*-3), focal_l=0.2):\n",
    "    \"\"\"\n",
    "    return Cartesian field of view in (h, w)\n",
    "    \"\"\"\n",
    "    return np.reshape(sensor_size*d_baseline/focal_l, (1,len(sensor_size)))\n",
    "\n",
    "def real_sep_to_camera(sep, fov, sensor_size_pixel=(600, 400)):\n",
    "    \"\"\"\n",
    "    convert led separation to camera scale.\n",
    "    \"\"\"\n",
    "    return sep*sensor_size_pixel/fov\n",
    "\n",
    "def led_pos_camera(led_sep_camera):\n",
    "    \"\"\"\n",
    "    get led positions as appeared in camera\n",
    "    in camera pixels, but not quantised to pixel integers\n",
    "    \"\"\"\n",
    "    return np.array(((1/2.0, 0), (-1/2.0, 0)))*led_sep_camera\n",
    "\n",
    "def pixelate(x_camera):\n",
    "    \"\"\"\n",
    "    for now just np.round, may need more precise model of pixel quantisation\n",
    "    \"\"\"\n",
    "    return np.round(x_camera)\n",
    "\n",
    "fov = baseline_sep_to_fov(np.array(30))\n",
    "led_sep_camera = real_sep_to_camera(np.array(0.8), fov)\n",
    "pixelate(led_pos_pixel(led_sep_pixel))"
   ]
  },
  {
   "cell_type": "code",
   "execution_count": 47,
   "id": "08635d5a",
   "metadata": {},
   "outputs": [],
   "source": [
    "# pixel to real\n",
    "\n",
    "def pixel_sep_to_real(sep_pixel, fov, sensor_size_pixel=(600, 400)):\n",
    "    \"\"\"\n",
    "    convert led separation in camera pixels to meters.\n",
    "    \"\"\"\n",
    "    if len(sep_pixel.shape) == 2:\n",
    "        return sep_pixel*fov/np.reshape(np.array(sensor_size_pixel), (1,2))\n",
    "    elif len(sep_pixel.shape) == 1:\n",
    "        return sep_pixel*fov/sensor_size_pixel[0]\n",
    "    else:\n",
    "        raise TypeError(f'sep_pixel of {sep_pixel.shape} is only allowed to have shape (n, 2) or (n, 1)')\n",
    "\n",
    "def led_pos_pixel_to_offset(pos_pixel):\n",
    "    \"\"\"\n",
    "    assume chief and deputies are aligned in the star direction\n",
    "    return offset in pixels of 2d, scale in pixels between 2 leds, and angle in radian\n",
    "    \"\"\"\n",
    "    led1 = pos_pixel[1]\n",
    "    led2 = pos_pixel[2]\n",
    "    sep = np.linalg.norm(led1-led2)\n",
    "    angle = np.arctan2(*(led1-led2)[::-1])\n",
    "    mid = (led1+led2)/2\n",
    "    return (mid, sep, angle)\n",
    "\n",
    "def offset_by_ideal(offset, ideal_pos):\n",
    "    pass\n",
    "    return (yz_offset, x_offset, angle)"
   ]
  },
  {
   "cell_type": "code",
   "execution_count": 52,
   "id": "588c7fc8",
   "metadata": {},
   "outputs": [
    {
     "data": {
      "text/plain": [
       "array([1, 2])"
      ]
     },
     "execution_count": 52,
     "metadata": {},
     "output_type": "execute_result"
    }
   ],
   "source": []
  }
 ],
 "metadata": {
  "kernelspec": {
   "display_name": "Pyxis (myenv)",
   "language": "python",
   "name": "venv"
  },
  "language_info": {
   "codemirror_mode": {
    "name": "ipython",
    "version": 3
   },
   "file_extension": ".py",
   "mimetype": "text/x-python",
   "name": "python",
   "nbconvert_exporter": "python",
   "pygments_lexer": "ipython3",
   "version": "3.10.6 (main, Nov 14 2022, 16:10:14) [GCC 11.3.0]"
  },
  "vscode": {
   "interpreter": {
    "hash": "7fcc7ce1790776b32e77a9cd56e4d146aab723eb6783ad16d2feb7539448f497"
   }
  }
 },
 "nbformat": 4,
 "nbformat_minor": 5
}
